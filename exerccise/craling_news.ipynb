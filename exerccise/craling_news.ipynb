{
  "nbformat": 4,
  "nbformat_minor": 0,
  "metadata": {
    "colab": {
      "provenance": [],
      "authorship_tag": "ABX9TyNROoQPPAZ7G3F9i+AYzHnB",
      "include_colab_link": true
    },
    "kernelspec": {
      "name": "python3",
      "display_name": "Python 3"
    },
    "language_info": {
      "name": "python"
    }
  },
  "cells": [
    {
      "cell_type": "markdown",
      "metadata": {
        "id": "view-in-github",
        "colab_type": "text"
      },
      "source": [
        "<a href=\"https://colab.research.google.com/github/nell78/web-crawling/blob/main/exerccise/craling_news.ipynb\" target=\"_parent\"><img src=\"https://colab.research.google.com/assets/colab-badge.svg\" alt=\"Open In Colab\"/></a>"
      ]
    },
    {
      "cell_type": "code",
      "execution_count": 5,
      "metadata": {
        "id": "A-jMEEC6TE9j"
      },
      "outputs": [],
      "source": [
        "import pandas as pd\n",
        "from bs4 import BeautifulSoup\n",
        "import requests\n",
        "\n",
        "url = 'https://finance.naver.com/news/mainnews.naver?date=2024-10-25'\n",
        "response = requests.get(url)\n",
        "soup = BeautifulSoup(response.text, 'lxml')\n",
        "\n",
        "# 데이터를 담을 리스트 초기화\n",
        "titles = []\n",
        "urls = []\n",
        "summaries = []\n",
        "dates = []\n",
        "\n",
        "# 필요한 태그와 클래스에 따라 데이터 추출\n",
        "articles = soup.find_all('li', {'class':'block1'})\n",
        "for article in articles:\n",
        "  # 기사 제목 추출\n",
        "  title_tag = article.find('dd', {'class': 'articleSubject'})\n",
        "  title = title_tag.get_text(strip=True) if title_tag else \"제목 없음\"\n",
        "\n",
        "  # 기사 본문 url 추출\n",
        "  url = title_tag.find('a')['href'] if title_tag and title_tag.find('a') else \"url 없음\"\n",
        "\n",
        "  # 기사 요약 추출\n",
        "  summary_tag = article.find('dd', {'class': 'articleSummary'})\n",
        "  summary = summary_tag.get_text(strip=True) if summary_tag else \"요약 없음\"\n",
        "\n",
        "  # 기사 날짜 추출\n",
        "  date_tag = summary_tag.find('span', {'class': 'wdate'}) if summary_tag else None\n",
        "  date = date_tag.get_text(strip=True) if date_tag else \"날짜 없음\"\n",
        "\n",
        "  # 리스트에 추가\n",
        "  titles.append(title)\n",
        "  urls.append(url)\n",
        "  summaries.append(summary)\n",
        "  dates.append(date)\n",
        ""
      ]
    },
    {
      "cell_type": "code",
      "source": [
        "# 데이터프레임으로 변환\n",
        "df = pd.DataFrame({\n",
        "    '기사제목': titles,\n",
        "    '본문URL': urls,\n",
        "    '기사본문': summaries,\n",
        "    '날짜': dates\n",
        "})"
      ],
      "metadata": {
        "id": "CS2Q9LUoYy__"
      },
      "execution_count": 6,
      "outputs": []
    },
    {
      "cell_type": "code",
      "source": [
        "df.to_csv('articles.csv', index=False, encoding='cp949')\n",
        "print('CSV 파일 저장 완료')"
      ],
      "metadata": {
        "colab": {
          "base_uri": "https://localhost:8080/"
        },
        "id": "KADnSfXXZIN1",
        "outputId": "44406a11-139f-4965-d62f-384391c26098"
      },
      "execution_count": 8,
      "outputs": [
        {
          "output_type": "stream",
          "name": "stdout",
          "text": [
            "CSV 파일 저장 완료\n"
          ]
        }
      ]
    }
  ]
}